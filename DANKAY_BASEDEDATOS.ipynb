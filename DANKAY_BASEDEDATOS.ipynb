{
  "nbformat": 4,
  "nbformat_minor": 0,
  "metadata": {
    "colab": {
      "provenance": [],
      "authorship_tag": "ABX9TyNilBAiKLAJOVAhD1b0Aizc",
      "include_colab_link": true
    },
    "kernelspec": {
      "name": "python3",
      "display_name": "Python 3"
    },
    "language_info": {
      "name": "python"
    }
  },
  "cells": [
    {
      "cell_type": "markdown",
      "metadata": {
        "id": "view-in-github",
        "colab_type": "text"
      },
      "source": [
        "<a href=\"https://colab.research.google.com/github/Danielakato/codelAB_bi/blob/main/DANKAY_BASEDEDATOS.ipynb\" target=\"_parent\"><img src=\"https://colab.research.google.com/assets/colab-badge.svg\" alt=\"Open In Colab\"/></a>"
      ]
    },
    {
      "cell_type": "markdown",
      "source": [
        "A continuación, te proporcionaré el script en Python dividido en chunks para que puedas entender cada parte por separado.\n",
        "Además, te mostraré cómo exportar cada tabla generada a una base de datos SQLite3.\n",
        "\n",
        "# 1. Configuración Inicial y Creación de la Base de Datos\n",
        "Este primer chunk configura la base de datos SQLite3 y crea la conexión a la misma."
      ],
      "metadata": {
        "id": "YPhvFg_OGowJ"
      }
    },
    {
      "cell_type": "code",
      "execution_count": 3,
      "metadata": {
        "colab": {
          "base_uri": "https://localhost:8080/"
        },
        "id": "iqR-ay7mGTCK",
        "outputId": "1594df03-0af3-4075-f668-746f348f10a2"
      },
      "outputs": [
        {
          "output_type": "stream",
          "name": "stdout",
          "text": [
            "Requirement already satisfied: faker in /usr/local/lib/python3.10/dist-packages (27.4.0)\n",
            "Requirement already satisfied: python-dateutil>=2.4 in /usr/local/lib/python3.10/dist-packages (from faker) (2.8.2)\n",
            "Requirement already satisfied: six>=1.5 in /usr/local/lib/python3.10/dist-packages (from python-dateutil>=2.4->faker) (1.16.0)\n"
          ]
        }
      ],
      "source": [
        "!pip install faker  # Install the faker module"
      ]
    },
    {
      "cell_type": "code",
      "source": [],
      "metadata": {
        "colab": {
          "base_uri": "https://localhost:8080/",
          "height": 164
        },
        "id": "wQ55h3q6HDlw",
        "outputId": "0685176d-9bfd-4d81-b345-4df8769ca3a3"
      },
      "execution_count": 2,
      "outputs": [
        {
          "output_type": "error",
          "ename": "NameError",
          "evalue": "name 'drive' is not defined",
          "traceback": [
            "\u001b[0;31m---------------------------------------------------------------------------\u001b[0m",
            "\u001b[0;31mNameError\u001b[0m                                 Traceback (most recent call last)",
            "\u001b[0;32m<ipython-input-2-742ddf98ed64>\u001b[0m in \u001b[0;36m<cell line: 2>\u001b[0;34m()\u001b[0m\n\u001b[1;32m      1\u001b[0m \u001b[0;31m# Montar Google Drive\u001b[0m\u001b[0;34m\u001b[0m\u001b[0;34m\u001b[0m\u001b[0m\n\u001b[0;32m----> 2\u001b[0;31m \u001b[0mdrive\u001b[0m\u001b[0;34m.\u001b[0m\u001b[0mmount\u001b[0m\u001b[0;34m(\u001b[0m\u001b[0;34m'/content/drive'\u001b[0m\u001b[0;34m)\u001b[0m\u001b[0;34m\u001b[0m\u001b[0;34m\u001b[0m\u001b[0m\n\u001b[0m",
            "\u001b[0;31mNameError\u001b[0m: name 'drive' is not defined"
          ]
        }
      ]
    },
    {
      "cell_type": "code",
      "source": [
        "# Inicializar Faker\n",
        "fake = Faker()\n",
        "\n",
        "# Crear la conexión a la base de datos SQLite3\n",
        "conn = sqlite3.connect('financial_data.db')\n",
        "\n",
        "# Función para ejecutar consultas SQL\n",
        "def execute_query(query, conn):\n",
        "    with conn:\n",
        "        conn.execute(query)\n",
        "\n",
        "# Crear las tablas en SQLite3\n",
        "execute_query('''CREATE TABLE IF NOT EXISTS customers (\n",
        "                 customer_id TEXT PRIMARY KEY,\n",
        "                 name TEXT,\n",
        "                 address TEXT,\n",
        "                 phone_number TEXT,\n",
        "                 email TEXT);''', conn)\n",
        "\n",
        "execute_query('''CREATE TABLE IF NOT EXISTS branches (\n",
        "                 branch_id TEXT PRIMARY KEY,\n",
        "                 branch_location TEXT,\n",
        "                 manager_name TEXT,\n",
        "                 contact_number TEXT);''', conn)\n",
        "\n",
        "execute_query('''CREATE TABLE IF NOT EXISTS transaction_types (\n",
        "                 transaction_type TEXT PRIMARY KEY,\n",
        "                 description TEXT);''', conn)\n",
        "\n",
        "execute_query('''CREATE TABLE IF NOT EXISTS transactions (\n",
        "                 transaction_id TEXT PRIMARY KEY,\n",
        "                 customer_id TEXT,\n",
        "                 transaction_date TEXT,\n",
        "                 transaction_amount REAL,\n",
        "                 transaction_location TEXT,\n",
        "                 transaction_type TEXT,\n",
        "                 fraudulent INTEGER,\n",
        "                 branch_id TEXT,\n",
        "                 FOREIGN KEY(customer_id) REFERENCES customers(customer_id),\n",
        "                 FOREIGN KEY(transaction_type) REFERENCES transaction_types(transaction_type),\n",
        "                 FOREIGN KEY(branch_id) REFERENCES branches(branch_id));''', conn)\n"
      ],
      "metadata": {
        "id": "FhdrFKNQHLTi"
      },
      "execution_count": null,
      "outputs": []
    }
  ]
}